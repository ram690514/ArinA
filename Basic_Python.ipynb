{
  "nbformat": 4,
  "nbformat_minor": 0,
  "metadata": {
    "colab": {
      "provenance": [],
      "authorship_tag": "ABX9TyO2UjFj6qy3hPdebKqtOYpH",
      "include_colab_link": true
    },
    "kernelspec": {
      "name": "python3",
      "display_name": "Python 3"
    },
    "language_info": {
      "name": "python"
    }
  },
  "cells": [
    {
      "cell_type": "markdown",
      "metadata": {
        "id": "view-in-github",
        "colab_type": "text"
      },
      "source": [
        "<a href=\"https://colab.research.google.com/github/ram690514/ArinA/blob/master/Basic_Python.ipynb\" target=\"_parent\"><img src=\"https://colab.research.google.com/assets/colab-badge.svg\" alt=\"Open In Colab\"/></a>"
      ]
    },
    {
      "cell_type": "code",
      "execution_count": null,
      "metadata": {
        "id": "sKQrYa0B78EH"
      },
      "outputs": [],
      "source": []
    },
    {
      "cell_type": "markdown",
      "source": [
        "# Introduction to Python\n",
        "\n",
        "First program display a HELLO!\n",
        "\n"
      ],
      "metadata": {
        "id": "0eJqZKQ679GR"
      }
    },
    {
      "cell_type": "code",
      "source": [
        "print(\"Ramkumar N\")"
      ],
      "metadata": {
        "colab": {
          "base_uri": "https://localhost:8080/"
        },
        "id": "LFRzkpr48F9Y",
        "outputId": "c5a3503c-ea9e-495a-e52c-ef12dbe800d2"
      },
      "execution_count": 1,
      "outputs": [
        {
          "output_type": "stream",
          "name": "stdout",
          "text": [
            "Ramkumar N\n"
          ]
        }
      ]
    },
    {
      "cell_type": "markdown",
      "source": [
        ">Program to display the vale of a variable\n"
      ],
      "metadata": {
        "id": "e_rqldiN9hWA"
      }
    },
    {
      "cell_type": "code",
      "source": [
        "a=10 \n",
        "c=a*5\n",
        "print(a)\n",
        "print(c)"
      ],
      "metadata": {
        "colab": {
          "base_uri": "https://localhost:8080/"
        },
        "id": "wQqxBrUg8sfI",
        "outputId": "15a30990-037b-445a-ae12-2b6d3f998069"
      },
      "execution_count": 3,
      "outputs": [
        {
          "output_type": "stream",
          "name": "stdout",
          "text": [
            "10\n",
            "50\n"
          ]
        }
      ]
    },
    {
      "cell_type": "code",
      "source": [
        "print(\"the value of variable a is :\",a)"
      ],
      "metadata": {
        "colab": {
          "base_uri": "https://localhost:8080/"
        },
        "id": "CbeodUbi8_Po",
        "outputId": "f56b7d08-083a-4dc5-8cf9-bf50f845d81d"
      },
      "execution_count": 4,
      "outputs": [
        {
          "output_type": "stream",
          "name": "stdout",
          "text": [
            "the value of variable a is : 10\n"
          ]
        }
      ]
    },
    {
      "cell_type": "markdown",
      "source": [
        ">Program to find the sum of 2 numbers "
      ],
      "metadata": {
        "id": "SuekpTRv9o7Q"
      }
    },
    {
      "cell_type": "code",
      "source": [
        "a=45\n",
        "b=25\n",
        "print(\"the sum is : \",a+b)"
      ],
      "metadata": {
        "colab": {
          "base_uri": "https://localhost:8080/"
        },
        "id": "n_uhxbmC9siX",
        "outputId": "d087cdb4-3ea0-4d37-9162-8f828e02c35d"
      },
      "execution_count": 6,
      "outputs": [
        {
          "output_type": "stream",
          "name": "stdout",
          "text": [
            "the sum is :  70\n"
          ]
        }
      ]
    },
    {
      "cell_type": "markdown",
      "source": [
        "> program to read 2 numbers and find the sum\n"
      ],
      "metadata": {
        "id": "OLeYB6RQ96Gg"
      }
    },
    {
      "cell_type": "code",
      "source": [
        "a= input(\"enter the first number\")\n",
        "b=input(\"enter the second number\")\n",
        "c=int(a)+int(b)  #here input function reads everything as string\n",
        "print('the sum is',c)"
      ],
      "metadata": {
        "colab": {
          "base_uri": "https://localhost:8080/"
        },
        "id": "52p1cCu8-X3f",
        "outputId": "6b3f4b28-d6a7-4098-80cb-1674e90750a1"
      },
      "execution_count": 8,
      "outputs": [
        {
          "output_type": "stream",
          "name": "stdout",
          "text": [
            "enter the first number10\n",
            "enter the second number20\n",
            "the sum is 30\n"
          ]
        }
      ]
    }
  ]
}